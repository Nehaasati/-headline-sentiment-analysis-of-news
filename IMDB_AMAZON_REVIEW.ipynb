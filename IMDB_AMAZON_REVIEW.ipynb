{
  "nbformat": 4,
  "nbformat_minor": 0,
  "metadata": {
    "colab": {
      "name": "IMDB/AMAZON REVIEW",
      "provenance": [],
      "collapsed_sections": [],
      "authorship_tag": "ABX9TyOc70ep1XQuBptziZoWwqBE",
      "include_colab_link": true
    },
    "kernelspec": {
      "name": "python3",
      "display_name": "Python 3"
    },
    "accelerator": "GPU"
  },
  "cells": [
    {
      "cell_type": "markdown",
      "metadata": {
        "id": "view-in-github",
        "colab_type": "text"
      },
      "source": [
        "<a href=\"https://colab.research.google.com/github/Nehaasati/-headline-sentiment-analysis-of-news/blob/main/IMDB_AMAZON_REVIEW.ipynb\" target=\"_parent\"><img src=\"https://colab.research.google.com/assets/colab-badge.svg\" alt=\"Open In Colab\"/></a>"
      ]
    },
    {
      "cell_type": "code",
      "metadata": {
        "id": "RY-nI-l5WDdR",
        "outputId": "cb308607-66ac-4555-8477-102ea545a643",
        "colab": {
          "base_uri": "https://localhost:8080/",
          "height": 406
        }
      },
      "source": [
        "from requests import get\n",
        "url = 'http://www.imdb.com/search/title?release_date=2017&sort=num_votes,desc&page=1'\n",
        "response = get(url)\n",
        "print(response.text[:500])\n"
      ],
      "execution_count": 1,
      "outputs": [
        {
          "output_type": "stream",
          "text": [
            "\n",
            "\n",
            "\n",
            "<!DOCTYPE html>\n",
            "<html\n",
            "    xmlns:og=\"http://ogp.me/ns#\"\n",
            "    xmlns:fb=\"http://www.facebook.com/2008/fbml\">\n",
            "    <head>\n",
            "         \n",
            "        <meta charset=\"utf-8\">\n",
            "        <meta http-equiv=\"X-UA-Compatible\" content=\"IE=edge\">\n",
            "\n",
            "    <meta name=\"apple-itunes-app\" content=\"app-id=342792525, app-argument=imdb:///?src=mdot\">\n",
            "\n",
            "\n",
            "\n",
            "        <script type=\"text/javascript\">var IMDbTimer={starttime: new Date().getTime(),pt:'java'};</script>\n",
            "\n",
            "<script>\n",
            "    if (typeof uet == 'function') {\n",
            "      uet(\"bb\", \"LoadTitle\"\n"
          ],
          "name": "stdout"
        }
      ]
    },
    {
      "cell_type": "code",
      "metadata": {
        "id": "e1CH7JklWAgN",
        "outputId": "c165c644-1055-4385-8722-ba72b2380fcb",
        "colab": {
          "base_uri": "https://localhost:8080/",
          "height": 36
        }
      },
      "source": [
        "from bs4 import BeautifulSoup\n",
        "html_soup = BeautifulSoup(response.text, 'html.parser')\n",
        "type(html_soup)"
      ],
      "execution_count": 2,
      "outputs": [
        {
          "output_type": "execute_result",
          "data": {
            "text/plain": [
              "bs4.BeautifulSoup"
            ]
          },
          "metadata": {
            "tags": []
          },
          "execution_count": 2
        }
      ]
    },
    {
      "cell_type": "code",
      "metadata": {
        "id": "ZzpSiBf3Yvo7",
        "outputId": "838e472c-993d-4d6a-b3a4-28afa99c6298",
        "colab": {
          "base_uri": "https://localhost:8080/",
          "height": 54
        }
      },
      "source": [
        "movie_containers = html_soup.find_all('div', class_ = 'lister-item mode-advanced')\n",
        "print(type(movie_containers))\n",
        "print(len(movie_containers))"
      ],
      "execution_count": 3,
      "outputs": [
        {
          "output_type": "stream",
          "text": [
            "<class 'bs4.element.ResultSet'>\n",
            "50\n"
          ],
          "name": "stdout"
        }
      ]
    },
    {
      "cell_type": "code",
      "metadata": {
        "id": "eSlq7v2MYvRl",
        "outputId": "9bf4e514-f237-451b-c12a-19e40c22998a",
        "colab": {
          "base_uri": "https://localhost:8080/",
          "height": 1000
        }
      },
      "source": [
        "first_movie = movie_containers[0]\n",
        "first_movie"
      ],
      "execution_count": 4,
      "outputs": [
        {
          "output_type": "execute_result",
          "data": {
            "text/plain": [
              "<div class=\"lister-item mode-advanced\">\n",
              "<div class=\"lister-top-right\">\n",
              "<div class=\"ribbonize\" data-caller=\"filmosearch\" data-tconst=\"tt3315342\"></div>\n",
              "</div>\n",
              "<div class=\"lister-item-image float-left\">\n",
              "<a href=\"/title/tt3315342/\"> <img alt=\"Logan\" class=\"loadlate\" data-tconst=\"tt3315342\" height=\"98\" loadlate=\"https://m.media-amazon.com/images/M/MV5BYzc5MTU4N2EtYTkyMi00NjdhLTg3NWEtMTY4OTEyMzJhZTAzXkEyXkFqcGdeQXVyNjc1NTYyMjg@._V1_UX67_CR0,0,67,98_AL_.jpg\" src=\"https://m.media-amazon.com/images/G/01/imdb/images/nopicture/large/film-184890147._CB466725069_.png\" width=\"67\"/>\n",
              "</a> </div>\n",
              "<div class=\"lister-item-content\">\n",
              "<h3 class=\"lister-item-header\">\n",
              "<span class=\"lister-item-index unbold text-primary\">1.</span>\n",
              "<a href=\"/title/tt3315342/\">Logan</a>\n",
              "<span class=\"lister-item-year text-muted unbold\">(2017)</span>\n",
              "</h3>\n",
              "<p class=\"text-muted \">\n",
              "<span class=\"certificate\">R</span>\n",
              "<span class=\"ghost\">|</span>\n",
              "<span class=\"runtime\">137 min</span>\n",
              "<span class=\"ghost\">|</span>\n",
              "<span class=\"genre\">\n",
              "Action, Drama, Sci-Fi            </span>\n",
              "</p>\n",
              "<div class=\"ratings-bar\">\n",
              "<div class=\"inline-block ratings-imdb-rating\" data-value=\"8.1\" name=\"ir\">\n",
              "<span class=\"global-sprite rating-star imdb-rating\"></span>\n",
              "<strong>8.1</strong>\n",
              "</div>\n",
              "<div class=\"inline-block ratings-user-rating\">\n",
              "<span class=\"userRatingValue\" data-tconst=\"tt3315342\" id=\"urv_tt3315342\">\n",
              "<span class=\"global-sprite rating-star no-rating\"></span>\n",
              "<span class=\"rate\" data-no-rating=\"Rate this\" data-value=\"0\" name=\"ur\">Rate this</span>\n",
              "</span>\n",
              "<div class=\"starBarWidget\" id=\"sb_tt3315342\">\n",
              "<div class=\"rating rating-list\" data-auth=\"\" data-ga-identifier=\"\" data-starbar-class=\"rating-list\" data-user=\"\" id=\"tt3315342|imdb|8.1|8.1|adv_li_tt||advsearch|title\" itemprop=\"aggregateRating\" itemscope=\"\" itemtype=\"http://schema.org/AggregateRating\" title=\"Users rated this 8.1/10 (633,024 votes) - click stars to rate\">\n",
              "<meta content=\"8.1\" itemprop=\"ratingValue\"/>\n",
              "<meta content=\"10\" itemprop=\"bestRating\"/>\n",
              "<meta content=\"633024\" itemprop=\"ratingCount\"/>\n",
              "<span class=\"rating-bg\"> </span>\n",
              "<span class=\"rating-imdb \" style=\"width: 113.4px\"> </span>\n",
              "<span class=\"rating-stars\">\n",
              "<a href=\"/register/login?why=vote\" rel=\"nofollow\" title=\"Register or login to rate this title\"><span>1</span></a>\n",
              "<a href=\"/register/login?why=vote\" rel=\"nofollow\" title=\"Register or login to rate this title\"><span>2</span></a>\n",
              "<a href=\"/register/login?why=vote\" rel=\"nofollow\" title=\"Register or login to rate this title\"><span>3</span></a>\n",
              "<a href=\"/register/login?why=vote\" rel=\"nofollow\" title=\"Register or login to rate this title\"><span>4</span></a>\n",
              "<a href=\"/register/login?why=vote\" rel=\"nofollow\" title=\"Register or login to rate this title\"><span>5</span></a>\n",
              "<a href=\"/register/login?why=vote\" rel=\"nofollow\" title=\"Register or login to rate this title\"><span>6</span></a>\n",
              "<a href=\"/register/login?why=vote\" rel=\"nofollow\" title=\"Register or login to rate this title\"><span>7</span></a>\n",
              "<a href=\"/register/login?why=vote\" rel=\"nofollow\" title=\"Register or login to rate this title\"><span>8</span></a>\n",
              "<a href=\"/register/login?why=vote\" rel=\"nofollow\" title=\"Register or login to rate this title\"><span>9</span></a>\n",
              "<a href=\"/register/login?why=vote\" rel=\"nofollow\" title=\"Register or login to rate this title\"><span>10</span></a>\n",
              "</span>\n",
              "<span class=\"rating-rating \"><span class=\"value\">8.1</span><span class=\"grey\">/</span><span class=\"grey\">10</span></span>\n",
              "<span class=\"rating-cancel \"><a href=\"/title/tt3315342/vote?v=X;k=\" rel=\"nofollow\" title=\"Delete\"><span>X</span></a></span>\n",
              " </div>\n",
              "</div>\n",
              "</div>\n",
              "<div class=\"inline-block ratings-metascore\">\n",
              "<span class=\"metascore favorable\">77        </span>\n",
              "        Metascore\n",
              "            </div>\n",
              "</div>\n",
              "<p class=\"text-muted\">\n",
              "    In a future where mutants are nearly extinct, an elderly and weary Logan leads a quiet life. But when Laura, a mutant child pursued by scientists, comes to him for help, he must get her to safety.</p>\n",
              "<p class=\"\">\n",
              "    Director:\n",
              "<a href=\"/name/nm0003506/\">James Mangold</a>\n",
              "<span class=\"ghost\">|</span> \n",
              "    Stars:\n",
              "<a href=\"/name/nm0413168/\">Hugh Jackman</a>, \n",
              "<a href=\"/name/nm0001772/\">Patrick Stewart</a>, \n",
              "<a href=\"/name/nm6748436/\">Dafne Keen</a>, \n",
              "<a href=\"/name/nm2933542/\">Boyd Holbrook</a>\n",
              "</p>\n",
              "<p class=\"sort-num_votes-visible\">\n",
              "<span class=\"text-muted\">Votes:</span>\n",
              "<span data-value=\"633024\" name=\"nv\">633,024</span>\n",
              "<span class=\"ghost\">|</span> <span class=\"text-muted\">Gross:</span>\n",
              "<span data-value=\"226,277,068\" name=\"nv\">$226.28M</span>\n",
              "</p>\n",
              "</div>\n",
              "</div>"
            ]
          },
          "metadata": {
            "tags": []
          },
          "execution_count": 4
        }
      ]
    },
    {
      "cell_type": "code",
      "metadata": {
        "id": "8zsE4ukEZsWI",
        "outputId": "d83e67e2-a634-4cf6-a574-a00dc5349c8d",
        "colab": {
          "base_uri": "https://localhost:8080/",
          "height": 73
        }
      },
      "source": [
        "first_movie.div"
      ],
      "execution_count": 5,
      "outputs": [
        {
          "output_type": "execute_result",
          "data": {
            "text/plain": [
              "<div class=\"lister-top-right\">\n",
              "<div class=\"ribbonize\" data-caller=\"filmosearch\" data-tconst=\"tt3315342\"></div>\n",
              "</div>"
            ]
          },
          "metadata": {
            "tags": []
          },
          "execution_count": 5
        }
      ]
    },
    {
      "cell_type": "code",
      "metadata": {
        "id": "rVCg6L4XZ2GL",
        "outputId": "3a71e6cc-6bbc-4cd5-d8a0-fd81c5ac87d4",
        "colab": {
          "base_uri": "https://localhost:8080/",
          "height": 74
        }
      },
      "source": [
        "first_movie.a"
      ],
      "execution_count": 6,
      "outputs": [
        {
          "output_type": "execute_result",
          "data": {
            "text/plain": [
              "<a href=\"/title/tt3315342/\"> <img alt=\"Logan\" class=\"loadlate\" data-tconst=\"tt3315342\" height=\"98\" loadlate=\"https://m.media-amazon.com/images/M/MV5BYzc5MTU4N2EtYTkyMi00NjdhLTg3NWEtMTY4OTEyMzJhZTAzXkEyXkFqcGdeQXVyNjc1NTYyMjg@._V1_UX67_CR0,0,67,98_AL_.jpg\" src=\"https://m.media-amazon.com/images/G/01/imdb/images/nopicture/large/film-184890147._CB466725069_.png\" width=\"67\"/>\n",
              "</a>"
            ]
          },
          "metadata": {
            "tags": []
          },
          "execution_count": 6
        }
      ]
    },
    {
      "cell_type": "code",
      "metadata": {
        "id": "X6w4w1QeaKcX",
        "outputId": "33e6a502-0534-4a09-e573-1cf44e2b2f8e",
        "colab": {
          "base_uri": "https://localhost:8080/",
          "height": 110
        }
      },
      "source": [
        "first_movie.h3\n"
      ],
      "execution_count": 7,
      "outputs": [
        {
          "output_type": "execute_result",
          "data": {
            "text/plain": [
              "<h3 class=\"lister-item-header\">\n",
              "<span class=\"lister-item-index unbold text-primary\">1.</span>\n",
              "<a href=\"/title/tt3315342/\">Logan</a>\n",
              "<span class=\"lister-item-year text-muted unbold\">(2017)</span>\n",
              "</h3>"
            ]
          },
          "metadata": {
            "tags": []
          },
          "execution_count": 7
        }
      ]
    },
    {
      "cell_type": "code",
      "metadata": {
        "id": "S2WwUkyKaTEm",
        "outputId": "6658039b-f9a6-402c-b3b3-163b04d6eefb",
        "colab": {
          "base_uri": "https://localhost:8080/",
          "height": 36
        }
      },
      "source": [
        "first_movie.h3.a"
      ],
      "execution_count": 8,
      "outputs": [
        {
          "output_type": "execute_result",
          "data": {
            "text/plain": [
              "<a href=\"/title/tt3315342/\">Logan</a>"
            ]
          },
          "metadata": {
            "tags": []
          },
          "execution_count": 8
        }
      ]
    },
    {
      "cell_type": "code",
      "metadata": {
        "id": "EnJGcxaGaSv5",
        "outputId": "5c31d7a3-3616-4298-a6cd-ba4ecd9db379",
        "colab": {
          "base_uri": "https://localhost:8080/",
          "height": 36
        }
      },
      "source": [
        "first_name = first_movie.h3.a.text\n",
        "first_name"
      ],
      "execution_count": 9,
      "outputs": [
        {
          "output_type": "execute_result",
          "data": {
            "application/vnd.google.colaboratory.intrinsic+json": {
              "type": "string"
            },
            "text/plain": [
              "'Logan'"
            ]
          },
          "metadata": {
            "tags": []
          },
          "execution_count": 9
        }
      ]
    },
    {
      "cell_type": "code",
      "metadata": {
        "id": "4BPXaLr2bUdN",
        "outputId": "c581122d-77cc-487a-b743-84dde7cb0094",
        "colab": {
          "base_uri": "https://localhost:8080/",
          "height": 36
        }
      },
      "source": [
        "first_year = first_movie.h3.find('span', class_ = 'lister-item-year text-muted unbold')\n",
        "first_year"
      ],
      "execution_count": 10,
      "outputs": [
        {
          "output_type": "execute_result",
          "data": {
            "text/plain": [
              "<span class=\"lister-item-year text-muted unbold\">(2017)</span>"
            ]
          },
          "metadata": {
            "tags": []
          },
          "execution_count": 10
        }
      ]
    },
    {
      "cell_type": "code",
      "metadata": {
        "id": "2NC1CqK3b4fB",
        "outputId": "80b518fb-837c-4749-b4db-47b0bfef68a2",
        "colab": {
          "base_uri": "https://localhost:8080/",
          "height": 36
        }
      },
      "source": [
        "first_movie.strong"
      ],
      "execution_count": 11,
      "outputs": [
        {
          "output_type": "execute_result",
          "data": {
            "text/plain": [
              "<strong>8.1</strong>"
            ]
          },
          "metadata": {
            "tags": []
          },
          "execution_count": 11
        }
      ]
    },
    {
      "cell_type": "code",
      "metadata": {
        "id": "M8yRTocIbUBQ",
        "outputId": "ad152f99-5a46-4087-b2f5-1c5630cf29ac",
        "colab": {
          "base_uri": "https://localhost:8080/",
          "height": 36
        }
      },
      "source": [
        "first_imdb = float(first_movie.strong.text)\n",
        "first_imdb"
      ],
      "execution_count": 12,
      "outputs": [
        {
          "output_type": "execute_result",
          "data": {
            "text/plain": [
              "8.1"
            ]
          },
          "metadata": {
            "tags": []
          },
          "execution_count": 12
        }
      ]
    },
    {
      "cell_type": "code",
      "metadata": {
        "id": "VVZkeTxkcTml",
        "outputId": "c07ab4bd-761e-4790-849e-d5d1404fee16",
        "colab": {
          "base_uri": "https://localhost:8080/",
          "height": 36
        }
      },
      "source": [
        "first_mscore = first_movie.find('span', class_ = 'metascore favorable')\n",
        "first_mscore = int(first_mscore.text)\n",
        "print(first_mscore)"
      ],
      "execution_count": 13,
      "outputs": [
        {
          "output_type": "stream",
          "text": [
            "77\n"
          ],
          "name": "stdout"
        }
      ]
    },
    {
      "cell_type": "code",
      "metadata": {
        "id": "iu5tPAgNcSxg",
        "outputId": "fc2f0c81-cbf4-4182-a1b9-16c078c9dabd",
        "colab": {
          "base_uri": "https://localhost:8080/",
          "height": 36
        }
      },
      "source": [
        "first_votes = first_movie.find('span', attrs = {'name':'nv'})\n",
        "first_votes"
      ],
      "execution_count": 14,
      "outputs": [
        {
          "output_type": "execute_result",
          "data": {
            "text/plain": [
              "<span data-value=\"633024\" name=\"nv\">633,024</span>"
            ]
          },
          "metadata": {
            "tags": []
          },
          "execution_count": 14
        }
      ]
    },
    {
      "cell_type": "code",
      "metadata": {
        "id": "S7-Rezy-c7-x",
        "outputId": "3de28d3f-4a5c-46d5-bb8d-e0590cab416e",
        "colab": {
          "base_uri": "https://localhost:8080/",
          "height": 36
        }
      },
      "source": [
        "first_votes = first_movie.find('span', attrs = {'name':'nv'})\n",
        "first_votes"
      ],
      "execution_count": 15,
      "outputs": [
        {
          "output_type": "execute_result",
          "data": {
            "text/plain": [
              "<span data-value=\"633024\" name=\"nv\">633,024</span>"
            ]
          },
          "metadata": {
            "tags": []
          },
          "execution_count": 15
        }
      ]
    },
    {
      "cell_type": "code",
      "metadata": {
        "id": "ZVjSNkBJc6cy",
        "outputId": "f2ca9960-949e-4c04-d128-c53c084f3a1e",
        "colab": {
          "base_uri": "https://localhost:8080/",
          "height": 36
        }
      },
      "source": [
        "first_votes['data-value']"
      ],
      "execution_count": 16,
      "outputs": [
        {
          "output_type": "execute_result",
          "data": {
            "application/vnd.google.colaboratory.intrinsic+json": {
              "type": "string"
            },
            "text/plain": [
              "'633024'"
            ]
          },
          "metadata": {
            "tags": []
          },
          "execution_count": 16
        }
      ]
    },
    {
      "cell_type": "code",
      "metadata": {
        "id": "MTnwsm2gc4Na"
      },
      "source": [
        "first_votes =(first_votes['data-value'])"
      ],
      "execution_count": 17,
      "outputs": []
    },
    {
      "cell_type": "code",
      "metadata": {
        "id": "NPo4rV_xd6aR",
        "outputId": "eb0bafff-fa25-4674-a7c7-fb137def4cc0",
        "colab": {
          "base_uri": "https://localhost:8080/",
          "height": 36
        }
      },
      "source": [
        "eighth_movie_mscore = movie_containers[7].find('div', class_ = 'ratings-metascore')\n",
        "type(eighth_movie_mscore)"
      ],
      "execution_count": 18,
      "outputs": [
        {
          "output_type": "execute_result",
          "data": {
            "text/plain": [
              "bs4.element.Tag"
            ]
          },
          "metadata": {
            "tags": []
          },
          "execution_count": 18
        }
      ]
    },
    {
      "cell_type": "code",
      "metadata": {
        "id": "nmW_HPVZd5QO"
      },
      "source": [
        ""
      ],
      "execution_count": 18,
      "outputs": []
    },
    {
      "cell_type": "code",
      "metadata": {
        "id": "8BgiNxmAd3Yd"
      },
      "source": [
        "names = []\n",
        "years = []\n",
        "imdb_ratings = []\n",
        "metascores = []\n",
        "votes = []\n",
        "# Extract data from individual movie container\n",
        "for container in movie_containers:\n",
        "# If the movie has Metascore, then extract:\n",
        "    if container.find('div', class_ = 'ratings-metascore') is not None:\n",
        "# The name\n",
        "     name = container.h3.a.text\n",
        "     names.append(name)\n",
        "# The year\n",
        "     year = container.h3.find('span', class_ = 'lister-item-year').text\n",
        "     years.append(year)\n",
        "# The IMDB rating\n",
        "     imdb = float(container.strong.text)\n",
        "     imdb_ratings.append(imdb)\n",
        "# The Metascore\n",
        "     m_score = container.find('span', class_ = 'metascore').text\n",
        "     metascores.append(int(m_score))\n",
        "# The number of votes\n",
        "     vote = container.find('span', attrs = {'name':'nv'})['data-value']\n",
        "     votes.append(int(vote))"
      ],
      "execution_count": 19,
      "outputs": []
    },
    {
      "cell_type": "code",
      "metadata": {
        "id": "DJAz8uNWdwO8",
        "outputId": "db19d732-a611-4005-ba78-777bc60ca955",
        "colab": {
          "base_uri": "https://localhost:8080/",
          "height": 1000
        }
      },
      "source": [
        "import pandas as pd\n",
        "test_df = pd.DataFrame({'movie': names,\n",
        "'year': years,\n",
        "'imdb': imdb_ratings,\n",
        "'metascore': metascores,\n",
        "'votes': votes\n",
        "})\n",
        "print(test_df.info())\n",
        "test_df"
      ],
      "execution_count": 20,
      "outputs": [
        {
          "output_type": "stream",
          "text": [
            "<class 'pandas.core.frame.DataFrame'>\n",
            "RangeIndex: 42 entries, 0 to 41\n",
            "Data columns (total 5 columns):\n",
            " #   Column     Non-Null Count  Dtype  \n",
            "---  ------     --------------  -----  \n",
            " 0   movie      42 non-null     object \n",
            " 1   year       42 non-null     object \n",
            " 2   imdb       42 non-null     float64\n",
            " 3   metascore  42 non-null     int64  \n",
            " 4   votes      42 non-null     int64  \n",
            "dtypes: float64(1), int64(2), object(2)\n",
            "memory usage: 1.8+ KB\n",
            "None\n"
          ],
          "name": "stdout"
        },
        {
          "output_type": "execute_result",
          "data": {
            "text/html": [
              "<div>\n",
              "<style scoped>\n",
              "    .dataframe tbody tr th:only-of-type {\n",
              "        vertical-align: middle;\n",
              "    }\n",
              "\n",
              "    .dataframe tbody tr th {\n",
              "        vertical-align: top;\n",
              "    }\n",
              "\n",
              "    .dataframe thead th {\n",
              "        text-align: right;\n",
              "    }\n",
              "</style>\n",
              "<table border=\"1\" class=\"dataframe\">\n",
              "  <thead>\n",
              "    <tr style=\"text-align: right;\">\n",
              "      <th></th>\n",
              "      <th>movie</th>\n",
              "      <th>year</th>\n",
              "      <th>imdb</th>\n",
              "      <th>metascore</th>\n",
              "      <th>votes</th>\n",
              "    </tr>\n",
              "  </thead>\n",
              "  <tbody>\n",
              "    <tr>\n",
              "      <th>0</th>\n",
              "      <td>Logan</td>\n",
              "      <td>(2017)</td>\n",
              "      <td>8.1</td>\n",
              "      <td>77</td>\n",
              "      <td>633024</td>\n",
              "    </tr>\n",
              "    <tr>\n",
              "      <th>1</th>\n",
              "      <td>Thor: Ragnarok</td>\n",
              "      <td>(2017)</td>\n",
              "      <td>7.9</td>\n",
              "      <td>74</td>\n",
              "      <td>571000</td>\n",
              "    </tr>\n",
              "    <tr>\n",
              "      <th>2</th>\n",
              "      <td>Guardians of the Galaxy Vol. 2</td>\n",
              "      <td>(2017)</td>\n",
              "      <td>7.6</td>\n",
              "      <td>67</td>\n",
              "      <td>555592</td>\n",
              "    </tr>\n",
              "    <tr>\n",
              "      <th>3</th>\n",
              "      <td>Star Wars: Episode VIII - The Last Jedi</td>\n",
              "      <td>(2017)</td>\n",
              "      <td>7.0</td>\n",
              "      <td>84</td>\n",
              "      <td>551697</td>\n",
              "    </tr>\n",
              "    <tr>\n",
              "      <th>4</th>\n",
              "      <td>Wonder Woman</td>\n",
              "      <td>(2017)</td>\n",
              "      <td>7.4</td>\n",
              "      <td>76</td>\n",
              "      <td>539976</td>\n",
              "    </tr>\n",
              "    <tr>\n",
              "      <th>5</th>\n",
              "      <td>Dunkirk</td>\n",
              "      <td>(2017)</td>\n",
              "      <td>7.9</td>\n",
              "      <td>94</td>\n",
              "      <td>538798</td>\n",
              "    </tr>\n",
              "    <tr>\n",
              "      <th>6</th>\n",
              "      <td>Spider-Man: Homecoming</td>\n",
              "      <td>(2017)</td>\n",
              "      <td>7.4</td>\n",
              "      <td>73</td>\n",
              "      <td>498787</td>\n",
              "    </tr>\n",
              "    <tr>\n",
              "      <th>7</th>\n",
              "      <td>Get Out</td>\n",
              "      <td>(I) (2017)</td>\n",
              "      <td>7.7</td>\n",
              "      <td>85</td>\n",
              "      <td>477909</td>\n",
              "    </tr>\n",
              "    <tr>\n",
              "      <th>8</th>\n",
              "      <td>Blade Runner 2049</td>\n",
              "      <td>(2017)</td>\n",
              "      <td>8.0</td>\n",
              "      <td>81</td>\n",
              "      <td>447310</td>\n",
              "    </tr>\n",
              "    <tr>\n",
              "      <th>9</th>\n",
              "      <td>It</td>\n",
              "      <td>(I) (2017)</td>\n",
              "      <td>7.3</td>\n",
              "      <td>69</td>\n",
              "      <td>447144</td>\n",
              "    </tr>\n",
              "    <tr>\n",
              "      <th>10</th>\n",
              "      <td>Baby Driver</td>\n",
              "      <td>(2017)</td>\n",
              "      <td>7.6</td>\n",
              "      <td>86</td>\n",
              "      <td>427108</td>\n",
              "    </tr>\n",
              "    <tr>\n",
              "      <th>11</th>\n",
              "      <td>Three Billboards Outside Ebbing, Missouri</td>\n",
              "      <td>(2017)</td>\n",
              "      <td>8.2</td>\n",
              "      <td>88</td>\n",
              "      <td>417106</td>\n",
              "    </tr>\n",
              "    <tr>\n",
              "      <th>12</th>\n",
              "      <td>Justice League</td>\n",
              "      <td>(2017)</td>\n",
              "      <td>6.3</td>\n",
              "      <td>45</td>\n",
              "      <td>374622</td>\n",
              "    </tr>\n",
              "    <tr>\n",
              "      <th>13</th>\n",
              "      <td>The Shape of Water</td>\n",
              "      <td>(2017)</td>\n",
              "      <td>7.3</td>\n",
              "      <td>87</td>\n",
              "      <td>360956</td>\n",
              "    </tr>\n",
              "    <tr>\n",
              "      <th>14</th>\n",
              "      <td>Coco</td>\n",
              "      <td>(I) (2017)</td>\n",
              "      <td>8.4</td>\n",
              "      <td>81</td>\n",
              "      <td>359301</td>\n",
              "    </tr>\n",
              "    <tr>\n",
              "      <th>15</th>\n",
              "      <td>John Wick: Chapter 2</td>\n",
              "      <td>(2017)</td>\n",
              "      <td>7.5</td>\n",
              "      <td>75</td>\n",
              "      <td>355764</td>\n",
              "    </tr>\n",
              "    <tr>\n",
              "      <th>16</th>\n",
              "      <td>Jumanji: Welcome to the Jungle</td>\n",
              "      <td>(2017)</td>\n",
              "      <td>6.9</td>\n",
              "      <td>58</td>\n",
              "      <td>311774</td>\n",
              "    </tr>\n",
              "    <tr>\n",
              "      <th>17</th>\n",
              "      <td>Beauty and the Beast</td>\n",
              "      <td>(I) (2017)</td>\n",
              "      <td>7.1</td>\n",
              "      <td>65</td>\n",
              "      <td>267455</td>\n",
              "    </tr>\n",
              "    <tr>\n",
              "      <th>18</th>\n",
              "      <td>Kingsman: The Golden Circle</td>\n",
              "      <td>(2017)</td>\n",
              "      <td>6.7</td>\n",
              "      <td>44</td>\n",
              "      <td>266328</td>\n",
              "    </tr>\n",
              "    <tr>\n",
              "      <th>19</th>\n",
              "      <td>Kong: Skull Island</td>\n",
              "      <td>(2017)</td>\n",
              "      <td>6.6</td>\n",
              "      <td>62</td>\n",
              "      <td>263684</td>\n",
              "    </tr>\n",
              "    <tr>\n",
              "      <th>20</th>\n",
              "      <td>Pirates of the Caribbean: Dead Men Tell No Tales</td>\n",
              "      <td>(2017)</td>\n",
              "      <td>6.6</td>\n",
              "      <td>39</td>\n",
              "      <td>256902</td>\n",
              "    </tr>\n",
              "    <tr>\n",
              "      <th>21</th>\n",
              "      <td>Alien: Covenant</td>\n",
              "      <td>(2017)</td>\n",
              "      <td>6.4</td>\n",
              "      <td>65</td>\n",
              "      <td>249963</td>\n",
              "    </tr>\n",
              "    <tr>\n",
              "      <th>22</th>\n",
              "      <td>Lady Bird</td>\n",
              "      <td>(2017)</td>\n",
              "      <td>7.4</td>\n",
              "      <td>94</td>\n",
              "      <td>232958</td>\n",
              "    </tr>\n",
              "    <tr>\n",
              "      <th>23</th>\n",
              "      <td>The Greatest Showman</td>\n",
              "      <td>(2017)</td>\n",
              "      <td>7.6</td>\n",
              "      <td>48</td>\n",
              "      <td>229367</td>\n",
              "    </tr>\n",
              "    <tr>\n",
              "      <th>24</th>\n",
              "      <td>War for the Planet of the Apes</td>\n",
              "      <td>(2017)</td>\n",
              "      <td>7.4</td>\n",
              "      <td>82</td>\n",
              "      <td>223802</td>\n",
              "    </tr>\n",
              "    <tr>\n",
              "      <th>25</th>\n",
              "      <td>Murder on the Orient Express</td>\n",
              "      <td>(2017)</td>\n",
              "      <td>6.5</td>\n",
              "      <td>52</td>\n",
              "      <td>207268</td>\n",
              "    </tr>\n",
              "    <tr>\n",
              "      <th>26</th>\n",
              "      <td>Life</td>\n",
              "      <td>(I) (2017)</td>\n",
              "      <td>6.6</td>\n",
              "      <td>54</td>\n",
              "      <td>204093</td>\n",
              "    </tr>\n",
              "    <tr>\n",
              "      <th>27</th>\n",
              "      <td>Call Me by Your Name</td>\n",
              "      <td>(2017)</td>\n",
              "      <td>7.9</td>\n",
              "      <td>93</td>\n",
              "      <td>202926</td>\n",
              "    </tr>\n",
              "    <tr>\n",
              "      <th>28</th>\n",
              "      <td>The Fate of the Furious</td>\n",
              "      <td>(2017)</td>\n",
              "      <td>6.7</td>\n",
              "      <td>56</td>\n",
              "      <td>200819</td>\n",
              "    </tr>\n",
              "    <tr>\n",
              "      <th>29</th>\n",
              "      <td>Wind River</td>\n",
              "      <td>(2017)</td>\n",
              "      <td>7.7</td>\n",
              "      <td>73</td>\n",
              "      <td>197344</td>\n",
              "    </tr>\n",
              "    <tr>\n",
              "      <th>30</th>\n",
              "      <td>Ghost in the Shell</td>\n",
              "      <td>(2017)</td>\n",
              "      <td>6.3</td>\n",
              "      <td>52</td>\n",
              "      <td>192597</td>\n",
              "    </tr>\n",
              "    <tr>\n",
              "      <th>31</th>\n",
              "      <td>King Arthur: Legend of the Sword</td>\n",
              "      <td>(2017)</td>\n",
              "      <td>6.7</td>\n",
              "      <td>41</td>\n",
              "      <td>188402</td>\n",
              "    </tr>\n",
              "    <tr>\n",
              "      <th>32</th>\n",
              "      <td>Mother!</td>\n",
              "      <td>(2017)</td>\n",
              "      <td>6.6</td>\n",
              "      <td>75</td>\n",
              "      <td>186724</td>\n",
              "    </tr>\n",
              "    <tr>\n",
              "      <th>33</th>\n",
              "      <td>The Hitman's Bodyguard</td>\n",
              "      <td>(2017)</td>\n",
              "      <td>6.9</td>\n",
              "      <td>47</td>\n",
              "      <td>182542</td>\n",
              "    </tr>\n",
              "    <tr>\n",
              "      <th>34</th>\n",
              "      <td>I, Tonya</td>\n",
              "      <td>(2017)</td>\n",
              "      <td>7.5</td>\n",
              "      <td>77</td>\n",
              "      <td>175637</td>\n",
              "    </tr>\n",
              "    <tr>\n",
              "      <th>35</th>\n",
              "      <td>Atomic Blonde</td>\n",
              "      <td>(2017)</td>\n",
              "      <td>6.7</td>\n",
              "      <td>63</td>\n",
              "      <td>172453</td>\n",
              "    </tr>\n",
              "    <tr>\n",
              "      <th>36</th>\n",
              "      <td>The Mummy</td>\n",
              "      <td>(2017)</td>\n",
              "      <td>5.4</td>\n",
              "      <td>34</td>\n",
              "      <td>170169</td>\n",
              "    </tr>\n",
              "    <tr>\n",
              "      <th>37</th>\n",
              "      <td>Darkest Hour</td>\n",
              "      <td>(2017)</td>\n",
              "      <td>7.4</td>\n",
              "      <td>75</td>\n",
              "      <td>167543</td>\n",
              "    </tr>\n",
              "    <tr>\n",
              "      <th>38</th>\n",
              "      <td>Bright</td>\n",
              "      <td>(I) (2017)</td>\n",
              "      <td>6.3</td>\n",
              "      <td>29</td>\n",
              "      <td>165829</td>\n",
              "    </tr>\n",
              "    <tr>\n",
              "      <th>39</th>\n",
              "      <td>Valerian and the City of a Thousand Planets</td>\n",
              "      <td>(2017)</td>\n",
              "      <td>6.5</td>\n",
              "      <td>51</td>\n",
              "      <td>159018</td>\n",
              "    </tr>\n",
              "    <tr>\n",
              "      <th>40</th>\n",
              "      <td>Baywatch</td>\n",
              "      <td>(2017)</td>\n",
              "      <td>5.5</td>\n",
              "      <td>37</td>\n",
              "      <td>157498</td>\n",
              "    </tr>\n",
              "    <tr>\n",
              "      <th>41</th>\n",
              "      <td>American Made</td>\n",
              "      <td>(2017)</td>\n",
              "      <td>7.2</td>\n",
              "      <td>65</td>\n",
              "      <td>155016</td>\n",
              "    </tr>\n",
              "  </tbody>\n",
              "</table>\n",
              "</div>"
            ],
            "text/plain": [
              "                                               movie  ...   votes\n",
              "0                                              Logan  ...  633024\n",
              "1                                     Thor: Ragnarok  ...  571000\n",
              "2                     Guardians of the Galaxy Vol. 2  ...  555592\n",
              "3            Star Wars: Episode VIII - The Last Jedi  ...  551697\n",
              "4                                       Wonder Woman  ...  539976\n",
              "5                                            Dunkirk  ...  538798\n",
              "6                             Spider-Man: Homecoming  ...  498787\n",
              "7                                            Get Out  ...  477909\n",
              "8                                  Blade Runner 2049  ...  447310\n",
              "9                                                 It  ...  447144\n",
              "10                                       Baby Driver  ...  427108\n",
              "11         Three Billboards Outside Ebbing, Missouri  ...  417106\n",
              "12                                    Justice League  ...  374622\n",
              "13                                The Shape of Water  ...  360956\n",
              "14                                              Coco  ...  359301\n",
              "15                              John Wick: Chapter 2  ...  355764\n",
              "16                    Jumanji: Welcome to the Jungle  ...  311774\n",
              "17                              Beauty and the Beast  ...  267455\n",
              "18                       Kingsman: The Golden Circle  ...  266328\n",
              "19                                Kong: Skull Island  ...  263684\n",
              "20  Pirates of the Caribbean: Dead Men Tell No Tales  ...  256902\n",
              "21                                   Alien: Covenant  ...  249963\n",
              "22                                         Lady Bird  ...  232958\n",
              "23                              The Greatest Showman  ...  229367\n",
              "24                    War for the Planet of the Apes  ...  223802\n",
              "25                      Murder on the Orient Express  ...  207268\n",
              "26                                              Life  ...  204093\n",
              "27                              Call Me by Your Name  ...  202926\n",
              "28                           The Fate of the Furious  ...  200819\n",
              "29                                        Wind River  ...  197344\n",
              "30                                Ghost in the Shell  ...  192597\n",
              "31                  King Arthur: Legend of the Sword  ...  188402\n",
              "32                                           Mother!  ...  186724\n",
              "33                            The Hitman's Bodyguard  ...  182542\n",
              "34                                          I, Tonya  ...  175637\n",
              "35                                     Atomic Blonde  ...  172453\n",
              "36                                         The Mummy  ...  170169\n",
              "37                                      Darkest Hour  ...  167543\n",
              "38                                            Bright  ...  165829\n",
              "39       Valerian and the City of a Thousand Planets  ...  159018\n",
              "40                                          Baywatch  ...  157498\n",
              "41                                     American Made  ...  155016\n",
              "\n",
              "[42 rows x 5 columns]"
            ]
          },
          "metadata": {
            "tags": []
          },
          "execution_count": 20
        }
      ]
    },
    {
      "cell_type": "code",
      "metadata": {
        "id": "x7WaQqD_nOz4"
      },
      "source": [
        "headers = {\"Accept-Language\": \"en-US, en;q=0.5\"}"
      ],
      "execution_count": 21,
      "outputs": []
    },
    {
      "cell_type": "code",
      "metadata": {
        "id": "sdeTsjC8nhGS"
      },
      "source": [
        "pages = [str(i) for i in range(1,5)]\n",
        "years_url = [str(i) for i in range(2000,2018)]"
      ],
      "execution_count": 22,
      "outputs": []
    },
    {
      "cell_type": "code",
      "metadata": {
        "id": "8ga2S2CZQFDB"
      },
      "source": [
        ""
      ],
      "execution_count": 22,
      "outputs": []
    },
    {
      "cell_type": "code",
      "metadata": {
        "id": "4Y51KDvfoFs8"
      },
      "source": [
        "from time import sleep\n",
        "from random import randint"
      ],
      "execution_count": 23,
      "outputs": []
    },
    {
      "cell_type": "code",
      "metadata": {
        "id": "5fAaAk6KRxqa"
      },
      "source": [
        ""
      ],
      "execution_count": 23,
      "outputs": []
    },
    {
      "cell_type": "code",
      "metadata": {
        "id": "2wPzDgpORQAe",
        "outputId": "74a76038-981e-4b24-8e09-4a3f1aff50c0",
        "colab": {
          "base_uri": "https://localhost:8080/",
          "height": 136
        }
      },
      "source": [
        "from time import timestart_time = time()\n",
        "requests = 0\n",
        "for _ in range(5):\n",
        "# A request would go here\n",
        "    requests += 1\n",
        "    sleep(randint(1,3))\n",
        "    elapsed_time = time() - start_time\n",
        "    print('Request: {}; Frequency: {} requests/s'.format(requests, requests/elapsed_time))"
      ],
      "execution_count": 24,
      "outputs": [
        {
          "output_type": "error",
          "ename": "SyntaxError",
          "evalue": "ignored",
          "traceback": [
            "\u001b[0;36m  File \u001b[0;32m\"<ipython-input-24-2dc8981a9f26>\"\u001b[0;36m, line \u001b[0;32m1\u001b[0m\n\u001b[0;31m    from time import timestart_time = time()\u001b[0m\n\u001b[0m                                    ^\u001b[0m\n\u001b[0;31mSyntaxError\u001b[0m\u001b[0;31m:\u001b[0m invalid syntax\n"
          ]
        }
      ]
    },
    {
      "cell_type": "code",
      "metadata": {
        "id": "spuNV1Lb-XCi"
      },
      "source": [
        "from IPython.core.display import clear_output\n",
        "start_time = time()requests = 0\n",
        "for _ in range(5):\n",
        "# A request would go here\n",
        "    requests += 1\n",
        "    sleep(randint(1,3))\n",
        "    current_time = time()\n",
        "    elapsed_time = current_time - start_time\n",
        "    print('Request: {}; Frequency: {} requests/s'.format(requests, requests/elapsed_time))\n",
        "clear_output(wait = True)"
      ],
      "execution_count": null,
      "outputs": []
    },
    {
      "cell_type": "code",
      "metadata": {
        "id": "60liUGF4-XGf",
        "outputId": "ff2ac3a1-acd7-4e22-84e8-467850de60a2",
        "colab": {
          "base_uri": "https://localhost:8080/",
          "height": 247
        }
      },
      "source": [
        "names = []\n",
        "years = []\n",
        "imdb_ratings = []\n",
        "metascores = []\n",
        "votes = []\n",
        "\n",
        "# Preparing the monitoring of the loop\n",
        "start_time = time()\n",
        "requests = 0\n",
        "\n",
        "## For every year in the interval 2000-2017\n",
        "for year_url in years_url:\n",
        "\n",
        "    # For every page in the interval 1-4\n",
        "    for page in pages:\n",
        "\n",
        "        # Make a get request\n",
        "        response = get('http://www.imdb.com/search/title?release_date=' + year_url +\n",
        "        '&sort=num_votes,desc&page=' + page, headers = headers)\n",
        "\n",
        "        # Pause the loop\n",
        "        sleep(randint(8,15))\n",
        "\n",
        "        # Monitor the requests\n",
        "        requests += 1\n",
        "        elapsed_time = time() - start_time\n",
        "        print('Request:{}; Frequency: {} requests/s'.format(requests, requests/elapsed_time))\n",
        "        #clear_output(wait = True)\n",
        "\n",
        "        # Throw a warning for non-200 status codes\n",
        "        if response.status_code != 200:\n",
        "            warn('Request: {}; Status code: {}'.format(requests, response.status_code))\n",
        "\n",
        "        # Break the loop if the number of requests is greater than expected\n",
        "        if requests > 72:\n",
        "            warn('Number of requests was greater than expected.')\n",
        "            break\n",
        "\n",
        "        # Parse the content of the request with BeautifulSoup\n",
        "        page_html = BeautifulSoup(response.text, 'html.parser')\n",
        "\n",
        "        # Select all the 50 movie containers from a single page\n",
        "        mv_containers = page_html.find_all('div', class_ = 'lister-item mode-advanced')\n",
        "\n",
        "        # For every movie of these 50\n",
        "        for container in mv_containers:\n",
        "            # If the movie has a Metascore, then:\n",
        "            if container.find('div', class_ = 'ratings-metascore') is not None:\n",
        "\n",
        "                # Scrape the name\n",
        "                name = container.h3.a.text\n",
        "                names.append(name)\n",
        "\n",
        "                # Scrape the year\n",
        "                year = container.h3.find('span', class_ = 'lister-item-year').text\n",
        "                years.append(year)\n",
        "\n",
        "                # Scrape the IMDB rating\n",
        "                imdb = float(container.strong.text)\n",
        "                imdb_ratings.append(imdb)\n",
        "\n",
        "                # Scrape the Metascore\n",
        "                m_score = container.find('span', class_ = 'metascore').text\n",
        "                metascores.append(int(m_score))\n",
        "\n",
        "                # Scrape the number of votes\n",
        "                vote = container.find('span', attrs = {'name':'nv'})['data-value']\n",
        "                votes.append(int(vote))"
      ],
      "execution_count": 25,
      "outputs": [
        {
          "output_type": "error",
          "ename": "NameError",
          "evalue": "ignored",
          "traceback": [
            "\u001b[0;31m---------------------------------------------------------------------------\u001b[0m",
            "\u001b[0;31mNameError\u001b[0m                                 Traceback (most recent call last)",
            "\u001b[0;32m<ipython-input-25-216f457f57fd>\u001b[0m in \u001b[0;36m<module>\u001b[0;34m()\u001b[0m\n\u001b[1;32m      6\u001b[0m \u001b[0;34m\u001b[0m\u001b[0m\n\u001b[1;32m      7\u001b[0m \u001b[0;31m# Preparing the monitoring of the loop\u001b[0m\u001b[0;34m\u001b[0m\u001b[0;34m\u001b[0m\u001b[0;34m\u001b[0m\u001b[0m\n\u001b[0;32m----> 8\u001b[0;31m \u001b[0mstart_time\u001b[0m \u001b[0;34m=\u001b[0m \u001b[0mtime\u001b[0m\u001b[0;34m(\u001b[0m\u001b[0;34m)\u001b[0m\u001b[0;34m\u001b[0m\u001b[0;34m\u001b[0m\u001b[0m\n\u001b[0m\u001b[1;32m      9\u001b[0m \u001b[0mrequests\u001b[0m \u001b[0;34m=\u001b[0m \u001b[0;36m0\u001b[0m\u001b[0;34m\u001b[0m\u001b[0;34m\u001b[0m\u001b[0m\n\u001b[1;32m     10\u001b[0m \u001b[0;34m\u001b[0m\u001b[0m\n",
            "\u001b[0;31mNameError\u001b[0m: name 'time' is not defined"
          ]
        }
      ]
    },
    {
      "cell_type": "code",
      "metadata": {
        "id": "0KIwodq5-XBA"
      },
      "source": [
        ""
      ],
      "execution_count": 25,
      "outputs": []
    },
    {
      "cell_type": "code",
      "metadata": {
        "id": "3EHZdlsSO3Yq",
        "outputId": "dc6c444e-025f-4ba0-f198-8fdce2b868fa",
        "colab": {
          "base_uri": "https://localhost:8080/",
          "height": 290
        }
      },
      "source": [
        "movie_ratings = pd.DataFrame({'movie': names,\n",
        "'year': years,\n",
        "'imdb': imdb_ratings,\n",
        "'metascore': metascores,\n",
        "'votes': votes\n",
        "})\n",
        "print(movie_ratings.info())\n",
        "movie_ratings.head(10)"
      ],
      "execution_count": 26,
      "outputs": [
        {
          "output_type": "stream",
          "text": [
            "<class 'pandas.core.frame.DataFrame'>\n",
            "RangeIndex: 0 entries\n",
            "Data columns (total 5 columns):\n",
            " #   Column     Non-Null Count  Dtype  \n",
            "---  ------     --------------  -----  \n",
            " 0   movie      0 non-null      float64\n",
            " 1   year       0 non-null      float64\n",
            " 2   imdb       0 non-null      float64\n",
            " 3   metascore  0 non-null      float64\n",
            " 4   votes      0 non-null      float64\n",
            "dtypes: float64(5)\n",
            "memory usage: 124.0 bytes\n",
            "None\n"
          ],
          "name": "stdout"
        },
        {
          "output_type": "execute_result",
          "data": {
            "text/html": [
              "<div>\n",
              "<style scoped>\n",
              "    .dataframe tbody tr th:only-of-type {\n",
              "        vertical-align: middle;\n",
              "    }\n",
              "\n",
              "    .dataframe tbody tr th {\n",
              "        vertical-align: top;\n",
              "    }\n",
              "\n",
              "    .dataframe thead th {\n",
              "        text-align: right;\n",
              "    }\n",
              "</style>\n",
              "<table border=\"1\" class=\"dataframe\">\n",
              "  <thead>\n",
              "    <tr style=\"text-align: right;\">\n",
              "      <th></th>\n",
              "      <th>movie</th>\n",
              "      <th>year</th>\n",
              "      <th>imdb</th>\n",
              "      <th>metascore</th>\n",
              "      <th>votes</th>\n",
              "    </tr>\n",
              "  </thead>\n",
              "  <tbody>\n",
              "  </tbody>\n",
              "</table>\n",
              "</div>"
            ],
            "text/plain": [
              "Empty DataFrame\n",
              "Columns: [movie, year, imdb, metascore, votes]\n",
              "Index: []"
            ]
          },
          "metadata": {
            "tags": []
          },
          "execution_count": 26
        }
      ]
    },
    {
      "cell_type": "code",
      "metadata": {
        "id": "QYtlfpanO1we",
        "outputId": "c9b5ac73-3e26-45ea-e42c-903b0b40a907",
        "colab": {
          "base_uri": "https://localhost:8080/",
          "height": 206
        }
      },
      "source": [
        "movie_ratings = movie_ratings[['movie', 'year', 'imdb', 'metascore', 'votes']]\n",
        "movie_ratings.head()"
      ],
      "execution_count": null,
      "outputs": [
        {
          "output_type": "execute_result",
          "data": {
            "text/html": [
              "<div>\n",
              "<style scoped>\n",
              "    .dataframe tbody tr th:only-of-type {\n",
              "        vertical-align: middle;\n",
              "    }\n",
              "\n",
              "    .dataframe tbody tr th {\n",
              "        vertical-align: top;\n",
              "    }\n",
              "\n",
              "    .dataframe thead th {\n",
              "        text-align: right;\n",
              "    }\n",
              "</style>\n",
              "<table border=\"1\" class=\"dataframe\">\n",
              "  <thead>\n",
              "    <tr style=\"text-align: right;\">\n",
              "      <th></th>\n",
              "      <th>movie</th>\n",
              "      <th>year</th>\n",
              "      <th>imdb</th>\n",
              "      <th>metascore</th>\n",
              "      <th>votes</th>\n",
              "    </tr>\n",
              "  </thead>\n",
              "  <tbody>\n",
              "    <tr>\n",
              "      <th>0</th>\n",
              "      <td>Gladiator</td>\n",
              "      <td>(2000)</td>\n",
              "      <td>8.5</td>\n",
              "      <td>67</td>\n",
              "      <td>1316231</td>\n",
              "    </tr>\n",
              "    <tr>\n",
              "      <th>1</th>\n",
              "      <td>Memento</td>\n",
              "      <td>(2000)</td>\n",
              "      <td>8.4</td>\n",
              "      <td>80</td>\n",
              "      <td>1106619</td>\n",
              "    </tr>\n",
              "    <tr>\n",
              "      <th>2</th>\n",
              "      <td>Snatch</td>\n",
              "      <td>(2000)</td>\n",
              "      <td>8.3</td>\n",
              "      <td>55</td>\n",
              "      <td>770405</td>\n",
              "    </tr>\n",
              "    <tr>\n",
              "      <th>3</th>\n",
              "      <td>Requiem for a Dream</td>\n",
              "      <td>(2000)</td>\n",
              "      <td>8.3</td>\n",
              "      <td>68</td>\n",
              "      <td>753136</td>\n",
              "    </tr>\n",
              "    <tr>\n",
              "      <th>4</th>\n",
              "      <td>X-Men</td>\n",
              "      <td>(2000)</td>\n",
              "      <td>7.4</td>\n",
              "      <td>64</td>\n",
              "      <td>564144</td>\n",
              "    </tr>\n",
              "  </tbody>\n",
              "</table>\n",
              "</div>"
            ],
            "text/plain": [
              "                 movie    year  imdb  metascore    votes\n",
              "0            Gladiator  (2000)   8.5         67  1316231\n",
              "1              Memento  (2000)   8.4         80  1106619\n",
              "2               Snatch  (2000)   8.3         55   770405\n",
              "3  Requiem for a Dream  (2000)   8.3         68   753136\n",
              "4                X-Men  (2000)   7.4         64   564144"
            ]
          },
          "metadata": {
            "tags": []
          },
          "execution_count": 46
        }
      ]
    },
    {
      "cell_type": "code",
      "metadata": {
        "id": "KdKN0V4lPCyv",
        "outputId": "01a3ed4b-96b4-4e9e-819f-6cfb99c6ff03",
        "colab": {
          "base_uri": "https://localhost:8080/",
          "height": 165
        }
      },
      "source": [
        "movie_ratings['year'].unique()"
      ],
      "execution_count": null,
      "outputs": [
        {
          "output_type": "execute_result",
          "data": {
            "text/plain": [
              "array(['(2000)', '(I) (2000)', '(2001)', '(2002)', '(2003)', '(2004)',\n",
              "       '(I) (2004)', '(2005)', '(I) (2005)', '(2006)', '(I) (2006)',\n",
              "       '(2007)', '(I) (2007)', '(2008)', '(I) (2008)', '(2009)',\n",
              "       '(I) (2009)', '(2010)', '(I) (2010)', '(2011)', '(I) (2011)',\n",
              "       '(2012)', '(I) (2012)', '(2013)', '(I) (2013)', '(2014)',\n",
              "       '(I) (2014)', '(II) (2014)', '(2015)', '(I) (2015)', '(II) (2015)',\n",
              "       '(2016)', '(II) (2016)', '(IX) (2016)', '(I) (2016)', '(2017)',\n",
              "       '(I) (2017)'], dtype=object)"
            ]
          },
          "metadata": {
            "tags": []
          },
          "execution_count": 47
        }
      ]
    },
    {
      "cell_type": "code",
      "metadata": {
        "id": "YGsTE3OCPPpK",
        "outputId": "d82ddc1b-1241-4c1e-8d91-838972c9272b",
        "colab": {
          "base_uri": "https://localhost:8080/",
          "height": 91
        }
      },
      "source": [
        "movie_ratings['year'].head(3)"
      ],
      "execution_count": null,
      "outputs": [
        {
          "output_type": "execute_result",
          "data": {
            "text/plain": [
              "0    (2000)\n",
              "1    (2000)\n",
              "2    (2000)\n",
              "Name: year, dtype: object"
            ]
          },
          "metadata": {
            "tags": []
          },
          "execution_count": 48
        }
      ]
    },
    {
      "cell_type": "code",
      "metadata": {
        "id": "Tb1-zQ7wPIoK",
        "outputId": "a6f02485-98b7-4d50-a24e-d466fe7bf576",
        "colab": {
          "base_uri": "https://localhost:8080/",
          "height": 112
        }
      },
      "source": [
        "movie_ratings.describe().loc[['min', 'max'], ['imdb', 'metascore']]"
      ],
      "execution_count": null,
      "outputs": [
        {
          "output_type": "execute_result",
          "data": {
            "text/html": [
              "<div>\n",
              "<style scoped>\n",
              "    .dataframe tbody tr th:only-of-type {\n",
              "        vertical-align: middle;\n",
              "    }\n",
              "\n",
              "    .dataframe tbody tr th {\n",
              "        vertical-align: top;\n",
              "    }\n",
              "\n",
              "    .dataframe thead th {\n",
              "        text-align: right;\n",
              "    }\n",
              "</style>\n",
              "<table border=\"1\" class=\"dataframe\">\n",
              "  <thead>\n",
              "    <tr style=\"text-align: right;\">\n",
              "      <th></th>\n",
              "      <th>imdb</th>\n",
              "      <th>metascore</th>\n",
              "    </tr>\n",
              "  </thead>\n",
              "  <tbody>\n",
              "    <tr>\n",
              "      <th>min</th>\n",
              "      <td>4.1</td>\n",
              "      <td>24.0</td>\n",
              "    </tr>\n",
              "    <tr>\n",
              "      <th>max</th>\n",
              "      <td>9.0</td>\n",
              "      <td>100.0</td>\n",
              "    </tr>\n",
              "  </tbody>\n",
              "</table>\n",
              "</div>"
            ],
            "text/plain": [
              "     imdb  metascore\n",
              "min   4.1       24.0\n",
              "max   9.0      100.0"
            ]
          },
          "metadata": {
            "tags": []
          },
          "execution_count": 49
        }
      ]
    },
    {
      "cell_type": "code",
      "metadata": {
        "id": "dL1r-ZnUPacI"
      },
      "source": [
        "movie_ratings.to_csv('movie_ratings.csv')"
      ],
      "execution_count": null,
      "outputs": []
    },
    {
      "cell_type": "code",
      "metadata": {
        "id": "m1o9C_qePYgE"
      },
      "source": [
        "import matplotlib.pyplot as plt\n",
        "\n",
        "fig, axes = plt.subplots(nrows = 1, ncols = 3, figsize = (16,4))\n",
        "ax1, ax2, ax3 = fig.axes\n",
        "ax1.hist(movie_ratings['imdb'], bins = 10, range = (0,10)) # bin range = 1\n",
        "ax1.set_title('IMDB rating')\n",
        "ax2.hist(movie_ratings['metascore'], bins = 10, range = (0,100)) # bin range = 10\n",
        "ax2.set_title('Metascore')\n",
        "ax3.hist(movie_ratings['n_imdb'], bins = 10, range = (0,100), histtype = 'step')\n",
        "ax3.hist(movie_ratings['metascore'], bins = 10, range = (0,100), histtype = 'step')\n",
        "ax3.legend(loc = 'upper left')\n",
        "ax3.set_title('The Two Normalized Distributions')\n",
        "for ax in fig.axes:\n",
        "    ax.spines['top'].set_visible(False)\n",
        "    ax.spines['right'].set_visible(False)\n",
        "plt.show()"
      ],
      "execution_count": null,
      "outputs": []
    }
  ]
}